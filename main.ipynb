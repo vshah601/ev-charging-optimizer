{
 "cells": [
  {
   "cell_type": "code",
   "execution_count": 2,
   "id": "9da8022d-c928-488d-a17a-bb61fee38809",
   "metadata": {},
   "outputs": [
    {
     "name": "stdout",
     "output_type": "stream",
     "text": [
      "\u001b[31mERROR: Could not find a version that satisfies the requirement git (from versions: none)\u001b[0m\u001b[31m\n",
      "\u001b[0m\u001b[31mERROR: No matching distribution found for git\u001b[0m\u001b[31m\n",
      "\u001b[0m"
     ]
    },
    {
     "ename": "NameError",
     "evalue": "name 'git' is not defined",
     "output_type": "error",
     "traceback": [
      "\u001b[0;31m---------------------------------------------------------------------------\u001b[0m",
      "\u001b[0;31mNameError\u001b[0m                                 Traceback (most recent call last)",
      "Cell \u001b[0;32mIn[2], line 2\u001b[0m\n\u001b[1;32m      1\u001b[0m get_ipython()\u001b[38;5;241m.\u001b[39msystem(\u001b[38;5;124m'\u001b[39m\u001b[38;5;124mpip install git\u001b[39m\u001b[38;5;124m'\u001b[39m)\n\u001b[0;32m----> 2\u001b[0m git \u001b[38;5;241m-\u001b[39m\u001b[38;5;241m-\u001b[39mversion\n",
      "\u001b[0;31mNameError\u001b[0m: name 'git' is not defined"
     ]
    }
   ],
   "source": []
  },
  {
   "cell_type": "code",
   "execution_count": 1,
   "id": "78ca7f0e-d52b-4eeb-9cdc-89cdacec8ce8",
   "metadata": {},
   "outputs": [],
   "source": [
    "import pandas as pd\n",
    "import numpy as np\n",
    "from blackboard import Blackboard\n",
    "from forecast_agent import ForecastAgent\n",
    "from schedule_agent import ScheduleAgent\n",
    "from advisor_agent import AdvisorAgent\n",
    "from orchestrator_agent import OrchestratorAgent\n",
    "import gradio as gr\n",
    "from dotenv import load_dotenv\n",
    "import os\n",
    "import time"
   ]
  },
  {
   "cell_type": "code",
   "execution_count": 2,
   "id": "fd7828b6-0d54-4a64-a8f4-4765ddddcbf7",
   "metadata": {},
   "outputs": [],
   "source": [
    "def clean_df(zone):\n",
    "\n",
    "    #Load CSV data\n",
    "    hourly_load = pd.read_csv(\"hrl_load_metered.csv\")\n",
    "    \n",
    "    #Filter load_area for only PEPCO load zone\n",
    "    filtered_hourly_load = hourly_load[hourly_load[\"load_area\"].str.contains(zone, case=False)]\n",
    "    \n",
    "    #Drop all columns except for datetime, area, and hourly load\n",
    "    filtered_hourly_load = filtered_hourly_load[[\"datetime_beginning_ept\", \"load_area\", \"mw\"]].reset_index(drop = True)\n",
    "    \n",
    "    #Parse existing datetime column into new column containing datetime objects\n",
    "    filtered_hourly_load['datetime'] = pd.to_datetime(filtered_hourly_load['datetime_beginning_ept'],format='%m/%d/%Y %I:%M:%S %p')\n",
    "    \n",
    "    #Parse datetime object columns to form new columns\n",
    "    filtered_hourly_load['hour'] = filtered_hourly_load['datetime'].dt.hour        \n",
    "    filtered_hourly_load['day'] = filtered_hourly_load['datetime'].dt.day          \n",
    "    filtered_hourly_load['month'] = filtered_hourly_load['datetime'].dt.month      \n",
    "    filtered_hourly_load['year'] = filtered_hourly_load['datetime'].dt.year\n",
    "    \n",
    "    #Reorder columns\n",
    "    filtered_hourly_load = filtered_hourly_load[['datetime', 'year', 'month', 'day', 'hour', 'load_area', 'mw']]\n",
    "    return filtered_hourly_load"
   ]
  },
  {
   "cell_type": "code",
   "execution_count": 3,
   "id": "699407d1-9f4a-4978-88ce-2ee1c22b6d78",
   "metadata": {},
   "outputs": [
    {
     "name": "stdout",
     "output_type": "stream",
     "text": [
      "* Running on local URL:  http://0.0.0.0:7911\n",
      "* To create a public link, set `share=True` in `launch()`.\n"
     ]
    },
    {
     "data": {
      "text/html": [
       "<div><iframe src=\"http://localhost:7911/\" width=\"100%\" height=\"500\" allow=\"autoplay; camera; microphone; clipboard-read; clipboard-write;\" frameborder=\"0\" allowfullscreen></iframe></div>"
      ],
      "text/plain": [
       "<IPython.core.display.HTML object>"
      ]
     },
     "metadata": {},
     "output_type": "display_data"
    },
    {
     "data": {
      "text/plain": []
     },
     "execution_count": 3,
     "metadata": {},
     "output_type": "execute_result"
    }
   ],
   "source": [
    "load_dotenv(override=True)\n",
    "api_key = os.getenv('OPENAI_API_KEY')\n",
    "\n",
    "hourly_load = pd.read_csv(\"hrl_load_metered.csv\")\n",
    "zones = hourly_load[\"load_area\"].unique().tolist()\n",
    "\n",
    "#result = orchestrator.run_full_pipeline()\n",
    "#print(result[\"output\"])\n",
    "\n",
    "# ---- Helper to format response ----\n",
    "\n",
    "def run_pipeline(zone):\n",
    "    # Filter dataframe for the selected zone\n",
    "    zone_df = clean_df(zone)\n",
    "\n",
    "    # Initialize blackboard and agents\n",
    "    blackboard = Blackboard()\n",
    "    forecast_agent = ForecastAgent(blackboard, zone_df)\n",
    "    schedule_agent = ScheduleAgent(blackboard)\n",
    "    advisor_agent = AdvisorAgent(blackboard)\n",
    "\n",
    "    orchestrator = OrchestratorAgent(\n",
    "        blackboard=blackboard,\n",
    "        forecast_agent=forecast_agent,\n",
    "        schedule_agent=schedule_agent,\n",
    "        advisor_agent=advisor_agent\n",
    "    )\n",
    "\n",
    "    # Accumulate text progressively\n",
    "    text = f\"🚀 Starting full pipeline for zone: **{zone}**\"\n",
    "    yield text\n",
    "\n",
    "    # Run full pipeline\n",
    "    result = orchestrator.run_full_pipeline()\n",
    "    text += \"\\n\\n\" + result[\"output\"]\n",
    "    yield text\n",
    "\n",
    "    # Stream intermediate steps if available\n",
    "    if \"intermediate_steps\" in result and result[\"intermediate_steps\"]:\n",
    "        text += \"\\n\\n---\\n**Tool Execution Log:**\\n\"\n",
    "        yield text\n",
    "        for i, step in enumerate(result[\"intermediate_steps\"], 1):\n",
    "            action, observation = step\n",
    "            text += f\"\\n**Step {i}:** {action.tool}\\n```\\n{observation}\\n```\"\n",
    "            yield text\n",
    "\n",
    "# ---- Simple Gradio UI ----\n",
    "custom_css = \"\"\"\n",
    ".gradio-container {\n",
    "    font-family: 'Arial', sans-serif;\n",
    "    background-color: #eef3fb;\n",
    "    padding: 20px;\n",
    "}\n",
    ".blue-button {\n",
    "    background-color: #1E90FF;\n",
    "    color: white;\n",
    "    font-weight: bold;\n",
    "}\n",
    ".output-box {\n",
    "    border: 2px solid #1E90FF;\n",
    "    border-radius: 8px;\n",
    "    padding: 15px;\n",
    "    background-color: #ffffff;\n",
    "    overflow-y: auto;\n",
    "    max-height: 500px;\n",
    "    white-space: pre-wrap;\n",
    "}\n",
    "\"\"\"\n",
    "\n",
    "# ---- Gradio UI with two tabs ----\n",
    "with gr.Blocks(css=custom_css, title=\"EV Charging Optimization System\") as demo:\n",
    "    \n",
    "    with gr.Tabs():\n",
    "\n",
    "        # ---- Tab 1: EV Charging Optimization ----\n",
    "        with gr.Tab(\"⚡ EV Charging Optimization\"):\n",
    "            gr.Markdown(\"\"\"\n",
    "# ⚡ EV Charging Optimization System\n",
    "This project seeks to **find an optimized time to charge your electric vehicle (EV)** based on hourly load forecasts in different zones.  \n",
    "Select your load zone and click **Generate Report** to get the best charging window recommendations.\n",
    "\"\"\")\n",
    "\n",
    "            with gr.Row():\n",
    "                \n",
    "                with gr.Column(scale=1):\n",
    "                    zone_dropdown = gr.Dropdown(choices=zones,label=\"Select Load Zone\",value=zones[0])\n",
    "                    run_btn = gr.Button(\"🚀 Generate Report\", variant=\"primary\", size=\"lg\", elem_classes=[\"blue-button\"])\n",
    "                    \n",
    "                with gr.Column(scale=2):\n",
    "                    output_box = gr.Markdown(\"Ready to run forecast...\", elem_classes=[\"output-box\"])\n",
    "\n",
    "            run_btn.click(fn=run_pipeline,inputs=[zone_dropdown],outputs=[output_box])\n",
    "\n",
    "        # ---- Tab 2: System Info ----\n",
    "        with gr.Tab(\"ℹ️ System Info\"):\n",
    "            gr.Markdown(\n",
    "\"\"\"\n",
    "### About This System\n",
    "\n",
    "**Components:**\n",
    "- **Forecast Agent**: Trains and uses ML models (Random Forest, XGBoost, Linear Regression) to predict hourly loads\n",
    "- **Schedule Agent**: Identifies optimal 4-hour charging windows based on minimum load\n",
    "- **Advisor Agent**: Generates comprehensive report with recommended charging window and forecasted average load\n",
    "- **Orchestrator Agent**: LangChain-powered coordinator that manages all agents\n",
    "\n",
    "**Workflow:**\n",
    "1. Train multiple forecasting models on historical data\n",
    "2. Evaluate models and select best performer (lowest MAPE)\n",
    "3. Generate 24-hour load forecast\n",
    "4. Find optimal 4-hour charging window\n",
    "5. Generate advisory report with recommendations\n",
    "\n",
    "**Architecture:**\n",
    "- Uses blackboard design for inter-agent communication\n",
    "- LangChain orchestrator with OpenAI Functions for intelligent task routing\n",
    "- Natural language interface for easy interaction\n",
    "\"\"\"\n",
    "            )\n",
    "\n",
    "# ---- Launch ----\n",
    "demo.launch(\n",
    "    server_name=\"0.0.0.0\",\n",
    "    server_port=7911\n",
    ")"
   ]
  },
  {
   "cell_type": "code",
   "execution_count": null,
   "id": "c7890328-6536-4017-8768-818a510901f6",
   "metadata": {},
   "outputs": [],
   "source": []
  },
  {
   "cell_type": "code",
   "execution_count": null,
   "id": "5c9bae05-1005-45aa-839c-5867daa726a5",
   "metadata": {},
   "outputs": [],
   "source": []
  },
  {
   "cell_type": "code",
   "execution_count": null,
   "id": "80689d69-6065-4d13-885c-6814bd529a7a",
   "metadata": {},
   "outputs": [],
   "source": []
  }
 ],
 "metadata": {
  "kernelspec": {
   "display_name": "Python 3 (ipykernel)",
   "language": "python",
   "name": "python3"
  },
  "language_info": {
   "codemirror_mode": {
    "name": "ipython",
    "version": 3
   },
   "file_extension": ".py",
   "mimetype": "text/x-python",
   "name": "python",
   "nbconvert_exporter": "python",
   "pygments_lexer": "ipython3",
   "version": "3.12.7"
  }
 },
 "nbformat": 4,
 "nbformat_minor": 5
}
